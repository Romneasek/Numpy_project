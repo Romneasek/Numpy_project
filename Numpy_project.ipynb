{
  "nbformat": 4,
  "nbformat_minor": 0,
  "metadata": {
    "colab": {
      "name": "Numpy_project.ipynb",
      "provenance": [],
      "collapsed_sections": [],
      "authorship_tag": "ABX9TyNVUESKSoOI7FYouOXzNq6j",
      "include_colab_link": true
    },
    "kernelspec": {
      "name": "python3",
      "display_name": "Python 3"
    },
    "language_info": {
      "name": "python"
    }
  },
  "cells": [
    {
      "cell_type": "markdown",
      "metadata": {
        "id": "view-in-github",
        "colab_type": "text"
      },
      "source": [
        "<a href=\"https://colab.research.google.com/github/Romneasek/Numpy_project/blob/main/Numpy_project.ipynb\" target=\"_parent\"><img src=\"https://colab.research.google.com/assets/colab-badge.svg\" alt=\"Open In Colab\"/></a>"
      ]
    },
    {
      "cell_type": "code",
      "source": [
        "import numpy as np"
      ],
      "metadata": {
        "id": "fOZrBWU7kzid"
      },
      "execution_count": null,
      "outputs": []
    },
    {
      "cell_type": "markdown",
      "source": [
        "# New Section"
      ],
      "metadata": {
        "id": "BsC5R6YVojKW"
      }
    },
    {
      "cell_type": "markdown",
      "source": [
        "- Load the data."
      ],
      "metadata": {
        "id": "ZXYvNONBpg2M"
      }
    },
    {
      "cell_type": "code",
      "source": [
        "path = '/content/KAG_Conversion_Data.csv'\n",
        "data = np.genfromtxt(path, delimiter=',', skip_header=1)\n",
        "np.set_printoptions(suppress=True)\n",
        "print(\"\\nData: \\n\\n\", data)"
      ],
      "metadata": {
        "colab": {
          "base_uri": "https://localhost:8080/"
        },
        "id": "HQ6j625zwOT2",
        "outputId": "531daf18-e8dc-4e5e-847d-476ba2c40db3"
      },
      "execution_count": null,
      "outputs": [
        {
          "output_type": "stream",
          "name": "stdout",
          "text": [
            "\n",
            "Data: \n",
            "\n",
            " [[ 708746.             916.          103916.         ...       1.42999995\n",
            "        2.               1.        ]\n",
            " [ 708749.             916.          103917.         ...       1.82000002\n",
            "        2.               0.        ]\n",
            " [ 708771.             916.          103920.         ...       0.\n",
            "        1.               0.        ]\n",
            " ...\n",
            " [1314412.            1178.          179979.         ...      40.28999949\n",
            "        2.               0.        ]\n",
            " [1314414.            1178.          179981.         ...     198.7100005\n",
            "        8.               2.        ]\n",
            " [1314415.            1178.          179982.         ...     165.6099987\n",
            "        5.               2.        ]]\n"
          ]
        }
      ]
    },
    {
      "cell_type": "markdown",
      "source": [
        "- How many unique ad campaigns (xyzcampaignid) does this data contain ? And for how many times was each campaign run ?"
      ],
      "metadata": {
        "id": "edEOEuorpr14"
      }
    },
    {
      "cell_type": "code",
      "source": [
        "unique_xyz_campaign_id = np.unique(data[:,1], return_counts=True)\n",
        "print(unique_xyz_campaign_id)"
      ],
      "metadata": {
        "colab": {
          "base_uri": "https://localhost:8080/"
        },
        "id": "pJwj2YC8lK1x",
        "outputId": "239dbb07-8c32-4423-cd9f-0113ef92a5b4"
      },
      "execution_count": null,
      "outputs": [
        {
          "output_type": "stream",
          "name": "stdout",
          "text": [
            "(array([ 916.,  936., 1178.]), array([ 54, 464, 625]))\n"
          ]
        }
      ]
    },
    {
      "cell_type": "markdown",
      "source": [
        "- What are the age groups that were targeted through these ad campaigns?"
      ],
      "metadata": {
        "id": "JVLLkUpnp2Cc"
      }
    },
    {
      "cell_type": "code",
      "source": [
        "data = np.genfromtxt(path, delimiter=',', skip_header=1, dtype=str)\n",
        "age = np.array(data[:,3])\n",
        "print(age)"
      ],
      "metadata": {
        "colab": {
          "base_uri": "https://localhost:8080/"
        },
        "id": "IcHLeVqWlmZV",
        "outputId": "e9599632-944b-4b5a-8451-62a9ff1d95b6"
      },
      "execution_count": null,
      "outputs": [
        {
          "output_type": "stream",
          "name": "stdout",
          "text": [
            "['30-34' '30-34' '30-34' ... '45-49' '45-49' '45-49']\n"
          ]
        }
      ]
    },
    {
      "cell_type": "code",
      "source": [
        "age_group_targeted_ad_campaign = np.unique(data[:,3], return_counts=True)\n",
        "print(age_group_targeted_ad_campaign)"
      ],
      "metadata": {
        "colab": {
          "base_uri": "https://localhost:8080/"
        },
        "id": "2PWT8dpHmuKM",
        "outputId": "a929f46a-18bd-4a5e-83e5-6f1f859cbc32"
      },
      "execution_count": null,
      "outputs": [
        {
          "output_type": "stream",
          "name": "stdout",
          "text": [
            "(array(['30-34', '35-39', '40-44', '45-49'], dtype='<U11'), array([426, 248, 210, 259]))\n"
          ]
        }
      ]
    },
    {
      "cell_type": "markdown",
      "source": [
        "- What was the average, minimum and maximum amount spent on the ads?"
      ],
      "metadata": {
        "id": "CN8ZyO3mqHZN"
      }
    },
    {
      "cell_type": "code",
      "source": [
        "data = np.genfromtxt(path, delimiter=',', skip_header=1)\n",
        "amount_spent_on_ads = np.array(data[:,8])\n",
        "print(amount_spent_on_ads)"
      ],
      "metadata": {
        "colab": {
          "base_uri": "https://localhost:8080/"
        },
        "id": "6d7oz4hJxWpZ",
        "outputId": "7ba104e4-72c4-492a-97d3-dd498e80fc49"
      },
      "execution_count": null,
      "outputs": [
        {
          "output_type": "stream",
          "name": "stdout",
          "text": [
            "[  1.42999995   1.82000002   0.         ...  40.28999949 198.7100005\n",
            " 165.6099987 ]\n"
          ]
        }
      ]
    },
    {
      "cell_type": "code",
      "source": [
        "print('The average amount spent on the ads is ', np.average(amount_spent_on_ads))\n",
        "print('The minimum amount spent on the ads is ', np.min(amount_spent_on_ads))\n",
        "print('The maximum amount spent on the ads is ', np.max(amount_spent_on_ads))"
      ],
      "metadata": {
        "colab": {
          "base_uri": "https://localhost:8080/"
        },
        "id": "L5ASBgppxJaB",
        "outputId": "4adcd815-a181-40a4-c1b4-799a80c37f52"
      },
      "execution_count": null,
      "outputs": [
        {
          "output_type": "stream",
          "name": "stdout",
          "text": [
            "The average amount spent on the ads is  51.36065613141295\n",
            "The minimum amount spent on the ads is  0.0\n",
            "The maximum amount spent on the ads is  639.9499981\n"
          ]
        }
      ]
    },
    {
      "cell_type": "markdown",
      "source": [
        "- What is the id of the ad having the maximum number of clicks ?"
      ],
      "metadata": {
        "id": "JvlujhsNqQ1Q"
      }
    },
    {
      "cell_type": "code",
      "source": [
        "ad_id =np.array(data[:,0])\n",
        "print(ad_id)"
      ],
      "metadata": {
        "colab": {
          "base_uri": "https://localhost:8080/"
        },
        "id": "L5mAZPu10O27",
        "outputId": "9695578e-2761-4abf-ec27-52c73dba49f4"
      },
      "execution_count": null,
      "outputs": [
        {
          "output_type": "stream",
          "name": "stdout",
          "text": [
            "[ 708746.  708749.  708771. ... 1314412. 1314414. 1314415.]\n"
          ]
        }
      ]
    },
    {
      "cell_type": "code",
      "source": [
        "clicks = np.array(data[:,7])\n",
        "print(clicks)"
      ],
      "metadata": {
        "colab": {
          "base_uri": "https://localhost:8080/"
        },
        "id": "v8RVSDna8xMw",
        "outputId": "15550b72-cc97-4629-8ddb-dcb7e466badb"
      },
      "execution_count": null,
      "outputs": [
        {
          "output_type": "stream",
          "name": "stdout",
          "text": [
            "[  1.   2.   0. ...  28. 135. 114.]\n"
          ]
        }
      ]
    },
    {
      "cell_type": "code",
      "source": [
        "max_click = np.max(clicks)\n",
        "print(max_click)"
      ],
      "metadata": {
        "colab": {
          "base_uri": "https://localhost:8080/"
        },
        "id": "0WMKXM1j3Y0s",
        "outputId": "e35d3be1-7f49-4a38-db53-32a5312dd02d"
      },
      "execution_count": null,
      "outputs": [
        {
          "output_type": "stream",
          "name": "stdout",
          "text": [
            "421.0\n"
          ]
        }
      ]
    },
    {
      "cell_type": "code",
      "source": [
        "ad_id_max_clicks = ad_id[clicks==421.0]\n",
        "print(ad_id_max_clicks)"
      ],
      "metadata": {
        "colab": {
          "base_uri": "https://localhost:8080/"
        },
        "id": "3uuFUbiT2mSH",
        "outputId": "8239001f-ab88-42d9-9f8f-20efd1ca3a83"
      },
      "execution_count": null,
      "outputs": [
        {
          "output_type": "stream",
          "name": "stdout",
          "text": [
            "[1121814.]\n"
          ]
        }
      ]
    },
    {
      "cell_type": "markdown",
      "source": [
        "- How many people bought the product after seeing the ad with most clicks? Is that the maximum number of purchases in this dataset?"
      ],
      "metadata": {
        "id": "yc6mu2uoqa9i"
      }
    },
    {
      "cell_type": "code",
      "source": [
        "data = np.genfromtxt(path, delimiter=',', skip_header=1)\n",
        "approved_conversion = np.array(data[:,10])\n",
        "print(approved_conversion)"
      ],
      "metadata": {
        "colab": {
          "base_uri": "https://localhost:8080/"
        },
        "id": "auN1nR8GAgrs",
        "outputId": "1e088c00-a176-43fa-80ac-30bf20099250"
      },
      "execution_count": null,
      "outputs": [
        {
          "output_type": "stream",
          "name": "stdout",
          "text": [
            "[1. 0. 0. ... 0. 2. 2.]\n"
          ]
        }
      ]
    },
    {
      "cell_type": "code",
      "source": [
        "max_approved_conversion = np.max(approved_conversion)\n",
        "print('Maximum number of purchase ', max_approved_conversion)"
      ],
      "metadata": {
        "colab": {
          "base_uri": "https://localhost:8080/"
        },
        "id": "x6vRKoCVBNWS",
        "outputId": "86ff9e31-c200-448a-a518-2a8c568c0515"
      },
      "execution_count": null,
      "outputs": [
        {
          "output_type": "stream",
          "name": "stdout",
          "text": [
            "Maximum number of purchase  21.0\n"
          ]
        }
      ]
    },
    {
      "cell_type": "code",
      "source": [
        "amount_people_bought_product_with_most_click = approved_conversion[clicks==421.0]\n",
        "print('people bought product with most click ', amount_people_bought_product_with_most_click)"
      ],
      "metadata": {
        "colab": {
          "base_uri": "https://localhost:8080/"
        },
        "id": "OvbtigYh_z7U",
        "outputId": "67699d11-a807-4922-cb03-db604c97fb89"
      },
      "execution_count": null,
      "outputs": [
        {
          "output_type": "stream",
          "name": "stdout",
          "text": [
            "people bought product with most click  [13.]\n"
          ]
        }
      ]
    },
    {
      "cell_type": "code",
      "source": [
        "print(max_approved_conversion == amount_people_bought_product_with_most_click)"
      ],
      "metadata": {
        "colab": {
          "base_uri": "https://localhost:8080/"
        },
        "id": "4TS84Ge7CKgM",
        "outputId": "4aacd8f5-fcbe-4e68-b83f-d2639f8035f0"
      },
      "execution_count": null,
      "outputs": [
        {
          "output_type": "stream",
          "name": "stdout",
          "text": [
            "[False]\n"
          ]
        }
      ]
    },
    {
      "cell_type": "markdown",
      "source": [
        "- \n",
        "So the ad with the most clicks didn't fetch the maximum number of purchases. Find the details of the product having maximum number of purchases"
      ],
      "metadata": {
        "id": "Uk6LDOLHrAFl"
      }
    },
    {
      "cell_type": "code",
      "source": [
        "print('Maximum number of purchase ', max_approved_conversion)"
      ],
      "metadata": {
        "colab": {
          "base_uri": "https://localhost:8080/"
        },
        "id": "CfBi-rjDCf4s",
        "outputId": "a069461a-835c-447a-bc41-43f69746d9f0"
      },
      "execution_count": null,
      "outputs": [
        {
          "output_type": "stream",
          "name": "stdout",
          "text": [
            "Maximum number of purchase  21.0\n"
          ]
        }
      ]
    },
    {
      "cell_type": "code",
      "source": [
        "data = np.genfromtxt(path, delimiter=',', skip_header=1, dtype=str)\n",
        "details_product_having_max_purchases = np.array(data[approved_conversion==21,:])\n",
        "print(details_product_having_max_purchases)"
      ],
      "metadata": {
        "colab": {
          "base_uri": "https://localhost:8080/"
        },
        "id": "wMX04-icHpIs",
        "outputId": "9406b898-88dc-4c1a-a1a2-5d2f055c7570"
      },
      "execution_count": null,
      "outputs": [
        {
          "output_type": "stream",
          "name": "stdout",
          "text": [
            "[['1121104' '1178' '144533' '30-34' 'M' '16' '2080666' '202'\n",
            "  '360.1500015' '40' '21']]\n"
          ]
        }
      ]
    }
  ]
}