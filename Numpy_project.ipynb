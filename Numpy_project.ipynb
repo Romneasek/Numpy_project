{
  "nbformat": 4,
  "nbformat_minor": 0,
  "metadata": {
    "colab": {
      "name": "Numpy_project.ipynb",
      "provenance": [],
      "collapsed_sections": [],
      "authorship_tag": "ABX9TyPPWhcoJq56i+XGdGSDHSiq",
      "include_colab_link": true
    },
    "kernelspec": {
      "name": "python3",
      "display_name": "Python 3"
    },
    "language_info": {
      "name": "python"
    }
  },
  "cells": [
    {
      "cell_type": "markdown",
      "metadata": {
        "id": "view-in-github",
        "colab_type": "text"
      },
      "source": [
        "<a href=\"https://colab.research.google.com/github/Romneasek/Numpy_project/blob/main/Numpy_project.ipynb\" target=\"_parent\"><img src=\"https://colab.research.google.com/assets/colab-badge.svg\" alt=\"Open In Colab\"/></a>"
      ]
    },
    {
      "cell_type": "code",
      "source": [
        "import numpy as np"
      ],
      "metadata": {
        "id": "fOZrBWU7kzid"
      },
      "execution_count": 200,
      "outputs": []
    },
    {
      "cell_type": "code",
      "source": [
        "path = '/content/KAG_Conversion_Data.csv'\n",
        "data = np.genfromtxt(path, delimiter=',', skip_header=1)\n",
        "np.set_printoptions(suppress=True)\n",
        "print(\"\\nData: \\n\\n\", data)"
      ],
      "metadata": {
        "colab": {
          "base_uri": "https://localhost:8080/"
        },
        "id": "HQ6j625zwOT2",
        "outputId": "7c70d4e0-f507-4fa1-d8cb-a878679caf1b"
      },
      "execution_count": 201,
      "outputs": [
        {
          "output_type": "stream",
          "name": "stdout",
          "text": [
            "\n",
            "Data: \n",
            "\n",
            " [[ 708746.             916.          103916.         ...       1.42999995\n",
            "        2.               1.        ]\n",
            " [ 708749.             916.          103917.         ...       1.82000002\n",
            "        2.               0.        ]\n",
            " [ 708771.             916.          103920.         ...       0.\n",
            "        1.               0.        ]\n",
            " ...\n",
            " [1314412.            1178.          179979.         ...      40.28999949\n",
            "        2.               0.        ]\n",
            " [1314414.            1178.          179981.         ...     198.7100005\n",
            "        8.               2.        ]\n",
            " [1314415.            1178.          179982.         ...     165.6099987\n",
            "        5.               2.        ]]\n"
          ]
        }
      ]
    },
    {
      "cell_type": "code",
      "source": [
        "unique_xyz_campaign_id = np.unique(data[:,1], return_counts=True)\n",
        "print(unique_xyz_campaign_id)"
      ],
      "metadata": {
        "colab": {
          "base_uri": "https://localhost:8080/"
        },
        "id": "pJwj2YC8lK1x",
        "outputId": "58580e71-55d4-4303-b9e9-474a57f232ae"
      },
      "execution_count": 202,
      "outputs": [
        {
          "output_type": "stream",
          "name": "stdout",
          "text": [
            "(array([ 916.,  936., 1178.]), array([ 54, 464, 625]))\n"
          ]
        }
      ]
    },
    {
      "cell_type": "code",
      "source": [
        "data = np.genfromtxt(path, delimiter=',', skip_header=1, dtype=str)\n",
        "age = np.array(data[:,3])\n",
        "print(age)"
      ],
      "metadata": {
        "colab": {
          "base_uri": "https://localhost:8080/"
        },
        "id": "IcHLeVqWlmZV",
        "outputId": "51e44e15-da06-4b8d-c66a-3a9c0c91a044"
      },
      "execution_count": 203,
      "outputs": [
        {
          "output_type": "stream",
          "name": "stdout",
          "text": [
            "['30-34' '30-34' '30-34' ... '45-49' '45-49' '45-49']\n"
          ]
        }
      ]
    },
    {
      "cell_type": "code",
      "source": [
        "age_group_targeted_ad_campaign = np.unique(data[:,3], return_counts=True)\n",
        "print(age_group_targeted_ad_campaign)"
      ],
      "metadata": {
        "colab": {
          "base_uri": "https://localhost:8080/"
        },
        "id": "2PWT8dpHmuKM",
        "outputId": "b7b8e435-3e8d-442d-a1a9-a76997082048"
      },
      "execution_count": 204,
      "outputs": [
        {
          "output_type": "stream",
          "name": "stdout",
          "text": [
            "(array(['30-34', '35-39', '40-44', '45-49'], dtype='<U11'), array([426, 248, 210, 259]))\n"
          ]
        }
      ]
    },
    {
      "cell_type": "code",
      "source": [
        "data = np.genfromtxt(path, delimiter=',', skip_header=1)\n",
        "amount_spent_on_ads = np.array(data[:,8])\n",
        "print(amount_spent_on_ads)"
      ],
      "metadata": {
        "colab": {
          "base_uri": "https://localhost:8080/"
        },
        "id": "6d7oz4hJxWpZ",
        "outputId": "843ed90d-0d7f-4067-de6d-9b4991d46c20"
      },
      "execution_count": 205,
      "outputs": [
        {
          "output_type": "stream",
          "name": "stdout",
          "text": [
            "[  1.42999995   1.82000002   0.         ...  40.28999949 198.7100005\n",
            " 165.6099987 ]\n"
          ]
        }
      ]
    },
    {
      "cell_type": "code",
      "source": [
        "print('The average amount spent on the ads is ', np.average(amount_spent_on_ads))\n",
        "print('The minimum amount spent on the ads is ', np.min(amount_spent_on_ads))\n",
        "print('The maximum amount spent on the ads is ', np.max(amount_spent_on_ads))"
      ],
      "metadata": {
        "colab": {
          "base_uri": "https://localhost:8080/"
        },
        "id": "L5ASBgppxJaB",
        "outputId": "a933c422-860c-4efe-bc6e-4bc0f27e7dbf"
      },
      "execution_count": 206,
      "outputs": [
        {
          "output_type": "stream",
          "name": "stdout",
          "text": [
            "The average amount spent on the ads is  51.36065613141295\n",
            "The minimum amount spent on the ads is  0.0\n",
            "The maximum amount spent on the ads is  639.9499981\n"
          ]
        }
      ]
    },
    {
      "cell_type": "code",
      "source": [
        "ad_id =np.array(data[:,0])\n",
        "print(ad_id)"
      ],
      "metadata": {
        "colab": {
          "base_uri": "https://localhost:8080/"
        },
        "id": "L5mAZPu10O27",
        "outputId": "55845341-af3f-4b17-ea67-410eedf5408d"
      },
      "execution_count": 207,
      "outputs": [
        {
          "output_type": "stream",
          "name": "stdout",
          "text": [
            "[ 708746.  708749.  708771. ... 1314412. 1314414. 1314415.]\n"
          ]
        }
      ]
    },
    {
      "cell_type": "code",
      "source": [
        "clicks = np.array(data[:,7])\n",
        "print(clicks)"
      ],
      "metadata": {
        "colab": {
          "base_uri": "https://localhost:8080/"
        },
        "id": "v8RVSDna8xMw",
        "outputId": "a8ba22fe-2254-4217-df2b-d0d844e91465"
      },
      "execution_count": 208,
      "outputs": [
        {
          "output_type": "stream",
          "name": "stdout",
          "text": [
            "[  1.   2.   0. ...  28. 135. 114.]\n"
          ]
        }
      ]
    },
    {
      "cell_type": "code",
      "source": [
        "max_click = np.max(clicks)\n",
        "print(max_click)"
      ],
      "metadata": {
        "colab": {
          "base_uri": "https://localhost:8080/"
        },
        "id": "0WMKXM1j3Y0s",
        "outputId": "0eb5eb85-8ac5-4fcb-e253-849cb757df19"
      },
      "execution_count": 209,
      "outputs": [
        {
          "output_type": "stream",
          "name": "stdout",
          "text": [
            "421.0\n"
          ]
        }
      ]
    },
    {
      "cell_type": "code",
      "source": [
        "ad_id_max_clicks = ad_id[clicks==421.0]\n",
        "print(ad_id_max_clicks)"
      ],
      "metadata": {
        "colab": {
          "base_uri": "https://localhost:8080/"
        },
        "id": "3uuFUbiT2mSH",
        "outputId": "6ce86039-fbf8-48d0-9d8e-84066a410338"
      },
      "execution_count": 210,
      "outputs": [
        {
          "output_type": "stream",
          "name": "stdout",
          "text": [
            "[1121814.]\n"
          ]
        }
      ]
    },
    {
      "cell_type": "code",
      "source": [
        "impressions = np.array(data[:,6])\n",
        "print(impressions)"
      ],
      "metadata": {
        "colab": {
          "base_uri": "https://localhost:8080/"
        },
        "id": "auN1nR8GAgrs",
        "outputId": "68901004-beae-4244-8bb9-765a917bc5d5"
      },
      "execution_count": 211,
      "outputs": [
        {
          "output_type": "stream",
          "name": "stdout",
          "text": [
            "[  7350.  17861.    693. ... 151531. 790253. 513161.]\n"
          ]
        }
      ]
    },
    {
      "cell_type": "code",
      "source": [
        "max_impressions = np.max(impressions)\n",
        "print('Maximum number of purchase ', max_impressions)"
      ],
      "metadata": {
        "colab": {
          "base_uri": "https://localhost:8080/"
        },
        "id": "x6vRKoCVBNWS",
        "outputId": "51afb525-1c62-4a8f-d53f-5a1b90dda7f5"
      },
      "execution_count": 212,
      "outputs": [
        {
          "output_type": "stream",
          "name": "stdout",
          "text": [
            "Maximum number of purchase  3052003.0\n"
          ]
        }
      ]
    },
    {
      "cell_type": "code",
      "source": [
        "amount_people_bought_product_with_most_click = impressions[clicks==421.0]\n",
        "print('Amount people bought product with most click ', amount_people_bought_product_with_most_click)"
      ],
      "metadata": {
        "colab": {
          "base_uri": "https://localhost:8080/"
        },
        "id": "OvbtigYh_z7U",
        "outputId": "4294d42d-7ce4-4d99-b43c-d6654bab44fb"
      },
      "execution_count": 213,
      "outputs": [
        {
          "output_type": "stream",
          "name": "stdout",
          "text": [
            "Amount people bought product with most click  [2223278.]\n"
          ]
        }
      ]
    },
    {
      "cell_type": "code",
      "source": [
        "print(max_impressions == amount_people_bought_product_with_most_click)"
      ],
      "metadata": {
        "colab": {
          "base_uri": "https://localhost:8080/"
        },
        "id": "4TS84Ge7CKgM",
        "outputId": "e08eeacd-abf0-4821-fba4-42cae812e251"
      },
      "execution_count": 214,
      "outputs": [
        {
          "output_type": "stream",
          "name": "stdout",
          "text": [
            "[False]\n"
          ]
        }
      ]
    },
    {
      "cell_type": "code",
      "source": [
        "print('Maximum number of purchase ', max_impressions)"
      ],
      "metadata": {
        "colab": {
          "base_uri": "https://localhost:8080/"
        },
        "id": "CfBi-rjDCf4s",
        "outputId": "2a3e2cea-e134-416c-a9de-dacd40462270"
      },
      "execution_count": 215,
      "outputs": [
        {
          "output_type": "stream",
          "name": "stdout",
          "text": [
            "Maximum number of purchase  3052003.0\n"
          ]
        }
      ]
    },
    {
      "cell_type": "code",
      "source": [
        "data = np.genfromtxt(path, delimiter=',', skip_header=1, dtype=str)\n",
        "details_product_having_max_purchases = np.array(data[impressions==3052003.0,:])\n",
        "print(details_product_having_max_purchases)"
      ],
      "metadata": {
        "colab": {
          "base_uri": "https://localhost:8080/"
        },
        "id": "wMX04-icHpIs",
        "outputId": "58d7fcff-ae0e-4f3b-b14f-69b6e99f73c0"
      },
      "execution_count": 216,
      "outputs": [
        {
          "output_type": "stream",
          "name": "stdout",
          "text": [
            "[['1121100' '1178' '144532' '30-34' 'M' '15' '3052003' '340'\n",
            "  '639.9499981' '60' '17']]\n"
          ]
        }
      ]
    }
  ]
}